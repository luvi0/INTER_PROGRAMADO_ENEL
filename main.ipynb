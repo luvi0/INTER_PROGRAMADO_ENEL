{
 "cells": [
  {
   "cell_type": "code",
   "execution_count": null,
   "id": "eba5cc1f",
   "metadata": {},
   "outputs": [],
   "source": [
    "# Bibliotecas\n",
    "import pandas as pd\n",
    "import pyautogui\n",
    "import time                                                                                                                                 \n",
    "import os\n",
    "import datetime\n",
    "import tabula\n",
    "from io import StringIO\n",
    "import os\n",
    "import numpy as np\n",
    "from selenium import webdriver\n",
    "from selenium.webdriver.chrome.service import Service\n",
    "from webdriver_manager.chrome import ChromeDriverManager"
   ]
  },
  {
   "cell_type": "code",
   "execution_count": null,
   "id": "6039f1a9",
   "metadata": {},
   "outputs": [],
   "source": [
    "# Data - copia na busca, um dia anterior ao executado aqui só é valido para diário\n",
    "hoje = datetime.datetime.now()\n",
    "ontem = hoje - datetime.timedelta(days=1)\n",
    "dia_exec = ontem.strftime('%Y%m%d')\n",
    "dia_exec"
   ]
  },
  {
   "cell_type": "code",
   "execution_count": null,
   "id": "e0a6ad57",
   "metadata": {},
   "outputs": [],
   "source": [
    "service = Service()\n",
    "options = webdriver.ChromeOptions()\n",
    "driver = webdriver.Chrome(service=service, options=options) #INICIA O CHROME"
   ]
  },
  {
   "cell_type": "code",
   "execution_count": null,
   "id": "8db08a14",
   "metadata": {},
   "outputs": [],
   "source": [
    "from selenium.webdriver.common.by import By #O BY AUXILIA A ENCONTRAR INFORMAÇÕES NUMA PÁGINA"
   ]
  },
  {
   "cell_type": "code",
   "execution_count": null,
   "id": "84c16392",
   "metadata": {},
   "outputs": [],
   "source": [
    "driver.get('https://www.eneldistribuicao.com.br/ce/DesligamentoProgramado.aspx?fbclid=IwAR1J6O9dmXcTIHKfB7nE81Tn3WXq-2dVDzcOnzxkrDtHCyEFqUTnZe-swBs') #FAZ UMA REQUISIÇÃO GET PARA O SITE"
   ]
  },
  {
   "cell_type": "code",
   "execution_count": null,
   "id": "0834014e",
   "metadata": {},
   "outputs": [],
   "source": [
    "# Localiza o elemento <th>\n",
    "elemento = driver.find_element(By.XPATH, \"/html/body/form/div[4]/div/div/div[2]/div/div[1]/div[1]/div/div[1]/div/div/input\")\n",
    "\n",
    "\n",
    "# Limpa o campo e escreve o valor\n",
    "elemento.clear()\n",
    "elemento.send_keys(\"9011056\")\n",
    "time.sleep(1)\n",
    "pyautogui.press('TAB')\n",
    "time.sleep('ENTER')\n",
    "\n",
    "for i in range(2,10):\n",
    "\n",
    "/html/body/form/div[4]/div/div/div[2]/div/div[1]/div[1]/div/div[3]/div/div/table/tbody/tr[i]/td[1] # data\n",
    "/html/body/form/div[4]/div/div/div[2]/div/div[1]/div[1]/div/div[3]/div/div/table/tbody/tr[i]/td[2] # horário\n",
    "/html/body/form/div[4]/div/div/div[2]/div/div[1]/div[1]/div/div[3]/div/div/table/tbody/tr[i]/td[3] # cidade\n",
    "\n",
    "\n",
    "/html/body/form/div[4]/div/div/div[2]/div/div[1]/div[1]/div/div[3]/div/div/table/tbody/tr[3]/td[1]\n",
    "/html/body/form/div[4]/div/div/div[2]/div/div[1]/div[1]/div/div[3]/div/div/table/tbody/tr[3]/td[2]\n",
    "\n",
    "    unidade = driver.find_element(By.XPATH, f\"/html/body/div[2]/div/div[3]/div/div/div/div[2]/table/tbody/tr[1]/th[2]\").get_attribute('innerText')\n",
    "    textos_uc.append(unidade)\n",
    "\n"
   ]
  }
 ],
 "metadata": {
  "language_info": {
   "name": "python"
  }
 },
 "nbformat": 4,
 "nbformat_minor": 5
}
