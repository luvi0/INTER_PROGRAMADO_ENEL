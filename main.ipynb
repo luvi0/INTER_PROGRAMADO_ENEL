{
 "cells": [
  {
   "cell_type": "code",
   "execution_count": 1,
   "id": "eba5cc1f",
   "metadata": {},
   "outputs": [],
   "source": [
    "# Bibliotecas\n",
    "import pandas as pd\n",
    "import pyautogui\n",
    "import time                                                                                                                                 \n",
    "import os\n",
    "import datetime\n",
    "import tabula\n",
    "from io import StringIO\n",
    "import os\n",
    "import numpy as np\n",
    "from selenium import webdriver\n",
    "from selenium.webdriver.chrome.service import Service\n",
    "from webdriver_manager.chrome import ChromeDriverManager"
   ]
  },
  {
   "cell_type": "code",
   "execution_count": 2,
   "id": "6039f1a9",
   "metadata": {},
   "outputs": [
    {
     "data": {
      "text/plain": [
       "'20250804'"
      ]
     },
     "execution_count": 2,
     "metadata": {},
     "output_type": "execute_result"
    }
   ],
   "source": [
    "# Data - copia na busca, um dia anterior ao executado aqui só é valido para diário\n",
    "hoje = datetime.datetime.now()\n",
    "ontem = hoje - datetime.timedelta(days=1)\n",
    "dia_exec = ontem.strftime('%Y%m%d')\n",
    "dia_exec"
   ]
  },
  {
   "cell_type": "code",
   "execution_count": 3,
   "id": "e0a6ad57",
   "metadata": {},
   "outputs": [],
   "source": [
    "service = Service()\n",
    "options = webdriver.ChromeOptions()\n",
    "driver = webdriver.Chrome(service=service, options=options) #INICIA O CHROME"
   ]
  },
  {
   "cell_type": "code",
   "execution_count": 4,
   "id": "8db08a14",
   "metadata": {},
   "outputs": [],
   "source": [
    "from selenium.webdriver.common.by import By #O BY AUXILIA A ENCONTRAR INFORMAÇÕES NUMA PÁGINA"
   ]
  },
  {
   "cell_type": "code",
   "execution_count": 5,
   "id": "84c16392",
   "metadata": {},
   "outputs": [],
   "source": [
    "driver.get('https://www.eneldistribuicao.com.br/ce/DesligamentoProgramado.aspx?fbclid=IwAR1J6O9dmXcTIHKfB7nE81Tn3WXq-2dVDzcOnzxkrDtHCyEFqUTnZe-swBs') #FAZ UMA REQUISIÇÃO GET PARA O SITE"
   ]
  },
  {
   "cell_type": "code",
   "execution_count": null,
   "id": "42e3719a",
   "metadata": {},
   "outputs": [],
   "source": [
    "# Localiza o elemento <th>\n",
    "elemento = driver.find_element(By.XPATH, \"/html/body/form/div[4]/div/div/div[2]/div/div[1]/div[1]/div/div[1]/div/div/input\")\n",
    "\n",
    "# Limpa o campo e escreve o valor\n",
    "elemento.clear()\n",
    "elemento.send_keys(\"9011056\")\n",
    "time.sleep(3)\n",
    "pyautogui.press('TAB') # mudar isso aqui\n",
    "time.sleep(3)\n",
    "botao_submit = driver.find_element(By.XPATH, \"/html/body/form/div[4]/div/div/div[2]/div/div[1]/div[1]/div/div[2]/div/input\")\n",
    "\n",
    "botao_submit.click()\n",
    "alfa = 1\n",
    "while alfa < 345:\n",
    "\n",
    "# Localiza o elemento <th>\n",
    "    elemento = driver.find_element(By.XPATH, \"/html/body/form/div[4]/div/div/div[2]/div/div[1]/div[1]/div/div[1]/div/div/input\")\n",
    "\n",
    "    # Limpa o campo e escreve o valor\n",
    "    elemento.clear()\n",
    "    elemento.send_keys(print(abt['Nº da UC/ Instalação'][alfa]))\n",
    "    time.sleep(0.5)\n",
    "    elemento.send_keys(Keys.ENTER)\n",
    "    time.sleep(1)\n",
    "    # Submete o formulário pressionando ENTER no elemento input\n",
    "    elemento.send_keys(Keys.ENTER)\n",
    "    time.sleep(1)  # Aguarda a página carregar após o submit\n",
    "\n",
    "    lista = []\n",
    "\n",
    "\n",
    "    for i in range(2,10):\n",
    "        try:\n",
    "            data_1 = driver.find_element(By.XPATH, f\"/html/body/form/div[4]/div/div/div[2]/div/div[1]/div[1]/div/div[3]/div/div/table/tbody/tr[{i}]/td[1]\").get_attribute('innerText') # data \n",
    "            lista.append(data_1)\n",
    "\n",
    "\n",
    "            horario = driver.find_element(By.XPATH, f\"/html/body/form/div[4]/div/div/div[2]/div/div[1]/div[1]/div/div[3]/div/div/table/tbody/tr[{i}]/td[2]\").get_attribute('innerText') # horário \n",
    "            lista.append(horario)\n",
    "\n",
    "\n",
    "            local = driver.find_element(By.XPATH, f\"/html/body/form/div[4]/div/div/div[2]/div/div[1]/div[1]/div/div[3]/div/div/table/tbody/tr[{i}]/td[1]\").get_attribute('innerText') # local \n",
    "            lista.append(local)\n",
    "        except:\n",
    "            print(\"linha máxima encontrada\")\n",
    "            \n",
    "    lista = pd.DataFrame(lista)\n",
    "\n",
    "            \n"
   ]
  },
  {
   "cell_type": "code",
   "execution_count": 24,
   "id": "272b206c",
   "metadata": {},
   "outputs": [],
   "source": [
    "import pandas as pd"
   ]
  },
  {
   "cell_type": "code",
   "execution_count": 57,
   "id": "c101eb80",
   "metadata": {},
   "outputs": [
    {
     "data": {
      "application/vnd.microsoft.datawrangler.viewer.v0+json": {
       "columns": [
        {
         "name": "index",
         "rawType": "int64",
         "type": "integer"
        },
        {
         "name": "Nº da UC/ Instalação",
         "rawType": "int64",
         "type": "integer"
        },
        {
         "name": "Unidade de Custo",
         "rawType": "object",
         "type": "string"
        }
       ],
       "ref": "77fd4fa9-9c02-40e8-8cda-4ea8251d3be5",
       "rows": [
        [
         "0",
         "42905",
         "UN-BMO"
        ],
        [
         "1",
         "43017",
         "UN-BSI"
        ],
        [
         "2",
         "49572",
         "UN-BBJ"
        ],
        [
         "3",
         "52411",
         "UN-BBJ"
        ],
        [
         "4",
         "259965",
         "UN-BAJ"
        ]
       ],
       "shape": {
        "columns": 2,
        "rows": 5
       }
      },
      "text/html": [
       "<div>\n",
       "<style scoped>\n",
       "    .dataframe tbody tr th:only-of-type {\n",
       "        vertical-align: middle;\n",
       "    }\n",
       "\n",
       "    .dataframe tbody tr th {\n",
       "        vertical-align: top;\n",
       "    }\n",
       "\n",
       "    .dataframe thead th {\n",
       "        text-align: right;\n",
       "    }\n",
       "</style>\n",
       "<table border=\"1\" class=\"dataframe\">\n",
       "  <thead>\n",
       "    <tr style=\"text-align: right;\">\n",
       "      <th></th>\n",
       "      <th>Nº da UC/ Instalação</th>\n",
       "      <th>Unidade de Custo</th>\n",
       "    </tr>\n",
       "  </thead>\n",
       "  <tbody>\n",
       "    <tr>\n",
       "      <th>0</th>\n",
       "      <td>42905</td>\n",
       "      <td>UN-BMO</td>\n",
       "    </tr>\n",
       "    <tr>\n",
       "      <th>1</th>\n",
       "      <td>43017</td>\n",
       "      <td>UN-BSI</td>\n",
       "    </tr>\n",
       "    <tr>\n",
       "      <th>2</th>\n",
       "      <td>49572</td>\n",
       "      <td>UN-BBJ</td>\n",
       "    </tr>\n",
       "    <tr>\n",
       "      <th>3</th>\n",
       "      <td>52411</td>\n",
       "      <td>UN-BBJ</td>\n",
       "    </tr>\n",
       "    <tr>\n",
       "      <th>4</th>\n",
       "      <td>259965</td>\n",
       "      <td>UN-BAJ</td>\n",
       "    </tr>\n",
       "  </tbody>\n",
       "</table>\n",
       "</div>"
      ],
      "text/plain": [
       "   Nº da UC/ Instalação Unidade de Custo\n",
       "0                 42905           UN-BMO\n",
       "1                 43017           UN-BSI\n",
       "2                 49572           UN-BBJ\n",
       "3                 52411           UN-BBJ\n",
       "4                259965           UN-BAJ"
      ]
     },
     "execution_count": 57,
     "metadata": {},
     "output_type": "execute_result"
    }
   ],
   "source": [
    "abt = pd.read_csv('dados.csv', encoding = 'iso-8859-1')\n",
    "abt.head()"
   ]
  },
  {
   "cell_type": "code",
   "execution_count": null,
   "id": "245f458b",
   "metadata": {},
   "outputs": [],
   "source": [
    "abt_desuso = [\"42905,43017,49572,52411,259965,264104,275981,429993,430035,432925,433212,433213,521823,521826,521852,671943,671944,671946,671975,671983,672007,672009,687079,687114,866035,866036,879191,891505,931417,1017401,1053122,1075840,1080616,1165494,1181622,1181623,1213838,1215973,1215996,1228074,1228893,1235856,1251666,1283533,1310203,1379933,1379934,1380330,1389771,1389773,1452519,1458451,1471563,1525146,1534902,1546319,1572902,1577110,1578819,1584856,1603859,1613489,1656214,1725904,1725914,1733241,1735702,1780597,1780598,1798253,1810901,1810903,1814261,1820905,1820906,1821217,1821219,9000397,9000398,9000478,9000485,9000544,9000668,9000688,9000700,9000701,9000798,9000805,9000855,9000888,9000978,9000988,9001035,9001036,9001053,9001078,9001123,9001133,9001145,9001204,9001205,9001206,9001361,9001387,9001411,9001452,9001453,9001507,9001541,9001563,9001612,9001613,9001614,9001739,9001743,9001777,9001778,9001780,9001781,9001782,9001783,9001789,9001805,9001829,9001831,9001832,9001931,9001941,9002012,9002271,9002313,9002434,9002463,9002537,9002736,9002737,9002738,9002739,9002740,9002851,9002907,9003011,9003012,9003071,9003155,9003389,9003429,9003495,9003496,9003497,9003498,9003565,9003645,9003649,9003664,9003698,9003858,9003895,9003909,9003914,9003917,9004023,9004045,9004181,9004223,9004254,9004343,9004483,9004621,9004624,9004757,9004848,9004919,9004920,9004956,9004978,9005168,9005346,9005403,9005459,9005483,9005523,9005547,9005555,9005923,9005925,9006057,9006139,9006141,9006204,9006221,9006255,9006300,9006319,9006349,9006457,9006487,9007101,9007210,9007812,9008036,9008072,9008091,9008099,9008263,9008289,9008292,9008314,9008516,9008517,9008613,9008661,9008668,9008685,9008686,9008723,9008794,9008806,9009003,9009115,9009165,9009221,9009222,9009232,9009343,9009363,9009457,9009463,9009554,9009567,9009632,9009648,9009808,9009830,9009831,9009843,9010058,9010080,9010199,9010231,9010275,9010400,9010455,9010479,9010482,9010531,9010543,9010619,9010677,9010726,9010762,9010967,9011047,9011056,9011108,9011109,9011110,9011146,9011153,9011318,9011423,9011452,9011506,9011508,9011509,9011510,9011538,9011623,9011923,9011958,9011960,12771753,9001580,9011659,21839808,21967797,9006054,24444213,24444216,9003478,32975812,34252226,37982035,37982089,38428125,12653104,12653124,12653110,41461779,41743613,43263026,44786393,45378276,45378284,49257303,49635203,50290416,50904574,40657137,51353150,51353516,51353772,51642036,51643157,51893128,51932591,38209530,52135830,12727512,52392974,52871815,53489882,49456199,49415558,55945895,55972149,56371819,56416728,56622444,57001000,51024460,57326141,57654978,57655112,57655138,58711501,58899373,59154982,59242035,59268512,59271462,59274294,59326940,59397383,60036730,60074156,60999857,61303340,61582600,61626227,62398905,62556093,62776390,627771040,62810904\"]"
   ]
  },
  {
   "cell_type": "code",
   "execution_count": 61,
   "id": "0834014e",
   "metadata": {},
   "outputs": [
    {
     "ename": "InvalidSessionIdException",
     "evalue": "Message: invalid session id: session deleted as the browser has closed the connection\nfrom disconnected: not connected to DevTools\n  (Session info: chrome=138.0.7204.184)\nStacktrace:\n\tGetHandleVerifier [0x0x7ff64a4ce415+77285]\n\tGetHandleVerifier [0x0x7ff64a4ce470+77376]\n\t(No symbol) [0x0x7ff64a299a6a]\n\t(No symbol) [0x0x7ff64a285cf5]\n\t(No symbol) [0x0x7ff64a2aa7fa]\n\t(No symbol) [0x0x7ff64a31fc05]\n\t(No symbol) [0x0x7ff64a340192]\n\t(No symbol) [0x0x7ff64a3183e3]\n\t(No symbol) [0x0x7ff64a2e1521]\n\t(No symbol) [0x0x7ff64a2e22b3]\n\tGetHandleVerifier [0x0x7ff64a7b1efd+3107021]\n\tGetHandleVerifier [0x0x7ff64a7ac29d+3083373]\n\tGetHandleVerifier [0x0x7ff64a7cbedd+3213485]\n\tGetHandleVerifier [0x0x7ff64a4e884e+184862]\n\tGetHandleVerifier [0x0x7ff64a4f055f+216879]\n\tGetHandleVerifier [0x0x7ff64a4d7084+113236]\n\tGetHandleVerifier [0x0x7ff64a4d7239+113673]\n\tGetHandleVerifier [0x0x7ff64a4be298+11368]\n\tBaseThreadInitThunk [0x0x7ffe8918e8d7+23]\n\tRtlUserThreadStart [0x0x7ffe8af7c34c+44]\n",
     "output_type": "error",
     "traceback": [
      "\u001b[31m---------------------------------------------------------------------------\u001b[39m",
      "\u001b[31mInvalidSessionIdException\u001b[39m                 Traceback (most recent call last)",
      "\u001b[36mCell\u001b[39m\u001b[36m \u001b[39m\u001b[32mIn[61]\u001b[39m\u001b[32m, line 5\u001b[39m\n\u001b[32m      1\u001b[39m alfa = \u001b[32m1\u001b[39m\n\u001b[32m      2\u001b[39m \u001b[38;5;28;01mwhile\u001b[39;00m alfa < \u001b[32m345\u001b[39m:\n\u001b[32m      3\u001b[39m \n\u001b[32m      4\u001b[39m \u001b[38;5;66;03m# Localiza o elemento <th>\u001b[39;00m\n\u001b[32m----> \u001b[39m\u001b[32m5\u001b[39m     elemento = \u001b[43mdriver\u001b[49m\u001b[43m.\u001b[49m\u001b[43mfind_element\u001b[49m\u001b[43m(\u001b[49m\u001b[43mBy\u001b[49m\u001b[43m.\u001b[49m\u001b[43mXPATH\u001b[49m\u001b[43m,\u001b[49m\u001b[43m \u001b[49m\u001b[33;43m\"\u001b[39;49m\u001b[33;43m/html/body/form/div[4]/div/div/div[2]/div/div[1]/div[1]/div/div[1]/div/div/input\u001b[39;49m\u001b[33;43m\"\u001b[39;49m\u001b[43m)\u001b[49m\n\u001b[32m      7\u001b[39m     \u001b[38;5;66;03m# Limpa o campo e escreve o valor\u001b[39;00m\n\u001b[32m      8\u001b[39m     elemento.clear()\n",
      "\u001b[36mFile \u001b[39m\u001b[32m~\\AppData\\Roaming\\Python\\Python313\\site-packages\\selenium\\webdriver\\remote\\webdriver.py:914\u001b[39m, in \u001b[36mWebDriver.find_element\u001b[39m\u001b[34m(self, by, value)\u001b[39m\n\u001b[32m    911\u001b[39m         \u001b[38;5;28;01mraise\u001b[39;00m NoSuchElementException(\u001b[33mf\u001b[39m\u001b[33m\"\u001b[39m\u001b[33mCannot locate relative element with: \u001b[39m\u001b[38;5;132;01m{\u001b[39;00mby.root\u001b[38;5;132;01m}\u001b[39;00m\u001b[33m\"\u001b[39m)\n\u001b[32m    912\u001b[39m     \u001b[38;5;28;01mreturn\u001b[39;00m elements[\u001b[32m0\u001b[39m]\n\u001b[32m--> \u001b[39m\u001b[32m914\u001b[39m \u001b[38;5;28;01mreturn\u001b[39;00m \u001b[38;5;28;43mself\u001b[39;49m\u001b[43m.\u001b[49m\u001b[43mexecute\u001b[49m\u001b[43m(\u001b[49m\u001b[43mCommand\u001b[49m\u001b[43m.\u001b[49m\u001b[43mFIND_ELEMENT\u001b[49m\u001b[43m,\u001b[49m\u001b[43m \u001b[49m\u001b[43m{\u001b[49m\u001b[33;43m\"\u001b[39;49m\u001b[33;43musing\u001b[39;49m\u001b[33;43m\"\u001b[39;49m\u001b[43m:\u001b[49m\u001b[43m \u001b[49m\u001b[43mby\u001b[49m\u001b[43m,\u001b[49m\u001b[43m \u001b[49m\u001b[33;43m\"\u001b[39;49m\u001b[33;43mvalue\u001b[39;49m\u001b[33;43m\"\u001b[39;49m\u001b[43m:\u001b[49m\u001b[43m \u001b[49m\u001b[43mvalue\u001b[49m\u001b[43m}\u001b[49m\u001b[43m)\u001b[49m[\u001b[33m\"\u001b[39m\u001b[33mvalue\u001b[39m\u001b[33m\"\u001b[39m]\n",
      "\u001b[36mFile \u001b[39m\u001b[32m~\\AppData\\Roaming\\Python\\Python313\\site-packages\\selenium\\webdriver\\remote\\webdriver.py:447\u001b[39m, in \u001b[36mWebDriver.execute\u001b[39m\u001b[34m(self, driver_command, params)\u001b[39m\n\u001b[32m    445\u001b[39m response = \u001b[38;5;28mself\u001b[39m.command_executor.execute(driver_command, params)\n\u001b[32m    446\u001b[39m \u001b[38;5;28;01mif\u001b[39;00m response:\n\u001b[32m--> \u001b[39m\u001b[32m447\u001b[39m     \u001b[38;5;28;43mself\u001b[39;49m\u001b[43m.\u001b[49m\u001b[43merror_handler\u001b[49m\u001b[43m.\u001b[49m\u001b[43mcheck_response\u001b[49m\u001b[43m(\u001b[49m\u001b[43mresponse\u001b[49m\u001b[43m)\u001b[49m\n\u001b[32m    448\u001b[39m     response[\u001b[33m\"\u001b[39m\u001b[33mvalue\u001b[39m\u001b[33m\"\u001b[39m] = \u001b[38;5;28mself\u001b[39m._unwrap_value(response.get(\u001b[33m\"\u001b[39m\u001b[33mvalue\u001b[39m\u001b[33m\"\u001b[39m, \u001b[38;5;28;01mNone\u001b[39;00m))\n\u001b[32m    449\u001b[39m     \u001b[38;5;28;01mreturn\u001b[39;00m response\n",
      "\u001b[36mFile \u001b[39m\u001b[32m~\\AppData\\Roaming\\Python\\Python313\\site-packages\\selenium\\webdriver\\remote\\errorhandler.py:232\u001b[39m, in \u001b[36mErrorHandler.check_response\u001b[39m\u001b[34m(self, response)\u001b[39m\n\u001b[32m    230\u001b[39m         alert_text = value[\u001b[33m\"\u001b[39m\u001b[33malert\u001b[39m\u001b[33m\"\u001b[39m].get(\u001b[33m\"\u001b[39m\u001b[33mtext\u001b[39m\u001b[33m\"\u001b[39m)\n\u001b[32m    231\u001b[39m     \u001b[38;5;28;01mraise\u001b[39;00m exception_class(message, screen, stacktrace, alert_text)  \u001b[38;5;66;03m# type: ignore[call-arg]  # mypy is not smart enough here\u001b[39;00m\n\u001b[32m--> \u001b[39m\u001b[32m232\u001b[39m \u001b[38;5;28;01mraise\u001b[39;00m exception_class(message, screen, stacktrace)\n",
      "\u001b[31mInvalidSessionIdException\u001b[39m: Message: invalid session id: session deleted as the browser has closed the connection\nfrom disconnected: not connected to DevTools\n  (Session info: chrome=138.0.7204.184)\nStacktrace:\n\tGetHandleVerifier [0x0x7ff64a4ce415+77285]\n\tGetHandleVerifier [0x0x7ff64a4ce470+77376]\n\t(No symbol) [0x0x7ff64a299a6a]\n\t(No symbol) [0x0x7ff64a285cf5]\n\t(No symbol) [0x0x7ff64a2aa7fa]\n\t(No symbol) [0x0x7ff64a31fc05]\n\t(No symbol) [0x0x7ff64a340192]\n\t(No symbol) [0x0x7ff64a3183e3]\n\t(No symbol) [0x0x7ff64a2e1521]\n\t(No symbol) [0x0x7ff64a2e22b3]\n\tGetHandleVerifier [0x0x7ff64a7b1efd+3107021]\n\tGetHandleVerifier [0x0x7ff64a7ac29d+3083373]\n\tGetHandleVerifier [0x0x7ff64a7cbedd+3213485]\n\tGetHandleVerifier [0x0x7ff64a4e884e+184862]\n\tGetHandleVerifier [0x0x7ff64a4f055f+216879]\n\tGetHandleVerifier [0x0x7ff64a4d7084+113236]\n\tGetHandleVerifier [0x0x7ff64a4d7239+113673]\n\tGetHandleVerifier [0x0x7ff64a4be298+11368]\n\tBaseThreadInitThunk [0x0x7ffe8918e8d7+23]\n\tRtlUserThreadStart [0x0x7ffe8af7c34c+44]\n"
     ]
    }
   ],
   "source": [
    "alfa = 1\n",
    "while alfa < 345:\n",
    "\n",
    "# Localiza o elemento <th>\n",
    "    elemento = driver.find_element(By.XPATH, \"/html/body/form/div[4]/div/div/div[2]/div/div[1]/div[1]/div/div[1]/div/div/input\")\n",
    "\n",
    "    # Limpa o campo e escreve o valor\n",
    "    elemento.clear()\n",
    "    elemento.send_keys(print(abt['Nº da UC/ Instalação'][alfa]))\n",
    "    time.sleep(0.5)\n",
    "    elemento.send_keys(Keys.ENTER)\n",
    "    time.sleep(1)\n",
    "    # Submete o formulário pressionando ENTER no elemento input\n",
    "    elemento.send_keys(Keys.ENTER)\n",
    "    time.sleep(1)  # Aguarda a página carregar após o submit\n",
    "\n",
    "    lista = []\n",
    "\n",
    "\n",
    "    for i in range(2,10):\n",
    "        try:\n",
    "            data_1 = driver.find_element(By.XPATH, f\"/html/body/form/div[4]/div/div/div[2]/div/div[1]/div[1]/div/div[3]/div/div/table/tbody/tr[{i}]/td[1]\").get_attribute('innerText') # data \n",
    "            lista.append(data_1)\n",
    "\n",
    "\n",
    "            horario = driver.find_element(By.XPATH, f\"/html/body/form/div[4]/div/div/div[2]/div/div[1]/div[1]/div/div[3]/div/div/table/tbody/tr[{i}]/td[2]\").get_attribute('innerText') # horário \n",
    "            lista.append(horario)\n",
    "\n",
    "\n",
    "            local = driver.find_element(By.XPATH, f\"/html/body/form/div[4]/div/div/div[2]/div/div[1]/div[1]/div/div[3]/div/div/table/tbody/tr[{i}]/td[1]\").get_attribute('innerText') # local \n",
    "            lista.append(local)\n",
    "        except:\n",
    "            print(\"linha máxima encontrada\")\n",
    "            \n",
    "    lista = pd.DataFrame(lista)\n",
    "\n",
    "            \n",
    "            \n"
   ]
  }
 ],
 "metadata": {
  "kernelspec": {
   "display_name": "Python 3",
   "language": "python",
   "name": "python3"
  },
  "language_info": {
   "codemirror_mode": {
    "name": "ipython",
    "version": 3
   },
   "file_extension": ".py",
   "mimetype": "text/x-python",
   "name": "python",
   "nbconvert_exporter": "python",
   "pygments_lexer": "ipython3",
   "version": "3.13.1"
  }
 },
 "nbformat": 4,
 "nbformat_minor": 5
}
